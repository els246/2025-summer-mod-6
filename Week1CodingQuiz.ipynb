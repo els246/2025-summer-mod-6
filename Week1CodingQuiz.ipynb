{
 "cells": [
  {
   "cell_type": "code",
   "execution_count": 4,
   "id": "0bacd007",
   "metadata": {},
   "outputs": [],
   "source": [
    "import pandas as pd\n",
    "import numpy as np \n",
    "from sklearn.linear_model import LinearRegression\n",
    "import matplotlib.pyplot as plt"
   ]
  },
  {
   "cell_type": "code",
   "execution_count": 2,
   "id": "1b865cd9",
   "metadata": {},
   "outputs": [],
   "source": [
    "df = pd.read_csv('homework_1.1.csv')"
   ]
  },
  {
   "cell_type": "code",
   "execution_count": 3,
   "id": "b7b82806",
   "metadata": {},
   "outputs": [
    {
     "data": {
      "text/html": [
       "<div>\n",
       "<style scoped>\n",
       "    .dataframe tbody tr th:only-of-type {\n",
       "        vertical-align: middle;\n",
       "    }\n",
       "\n",
       "    .dataframe tbody tr th {\n",
       "        vertical-align: top;\n",
       "    }\n",
       "\n",
       "    .dataframe thead th {\n",
       "        text-align: right;\n",
       "    }\n",
       "</style>\n",
       "<table border=\"1\" class=\"dataframe\">\n",
       "  <thead>\n",
       "    <tr style=\"text-align: right;\">\n",
       "      <th></th>\n",
       "      <th>Unnamed: 0</th>\n",
       "      <th>X1</th>\n",
       "      <th>X2</th>\n",
       "      <th>X3</th>\n",
       "      <th>Y</th>\n",
       "    </tr>\n",
       "  </thead>\n",
       "  <tbody>\n",
       "    <tr>\n",
       "      <th>0</th>\n",
       "      <td>0</td>\n",
       "      <td>-0.440646</td>\n",
       "      <td>-0.390227</td>\n",
       "      <td>0.156718</td>\n",
       "      <td>-0.877671</td>\n",
       "    </tr>\n",
       "    <tr>\n",
       "      <th>1</th>\n",
       "      <td>1</td>\n",
       "      <td>-3.810099</td>\n",
       "      <td>-1.304665</td>\n",
       "      <td>-1.105117</td>\n",
       "      <td>-10.130388</td>\n",
       "    </tr>\n",
       "    <tr>\n",
       "      <th>2</th>\n",
       "      <td>2</td>\n",
       "      <td>-1.425451</td>\n",
       "      <td>-0.340049</td>\n",
       "      <td>1.115908</td>\n",
       "      <td>0.284068</td>\n",
       "    </tr>\n",
       "    <tr>\n",
       "      <th>3</th>\n",
       "      <td>3</td>\n",
       "      <td>-1.325750</td>\n",
       "      <td>0.161906</td>\n",
       "      <td>-0.254670</td>\n",
       "      <td>-1.994344</td>\n",
       "    </tr>\n",
       "    <tr>\n",
       "      <th>4</th>\n",
       "      <td>4</td>\n",
       "      <td>3.120263</td>\n",
       "      <td>1.487343</td>\n",
       "      <td>-1.164839</td>\n",
       "      <td>2.030030</td>\n",
       "    </tr>\n",
       "    <tr>\n",
       "      <th>...</th>\n",
       "      <td>...</td>\n",
       "      <td>...</td>\n",
       "      <td>...</td>\n",
       "      <td>...</td>\n",
       "      <td>...</td>\n",
       "    </tr>\n",
       "    <tr>\n",
       "      <th>995</th>\n",
       "      <td>995</td>\n",
       "      <td>1.281625</td>\n",
       "      <td>-0.062024</td>\n",
       "      <td>-0.109231</td>\n",
       "      <td>1.206058</td>\n",
       "    </tr>\n",
       "    <tr>\n",
       "      <th>996</th>\n",
       "      <td>996</td>\n",
       "      <td>-3.047558</td>\n",
       "      <td>-1.121675</td>\n",
       "      <td>0.678439</td>\n",
       "      <td>-3.229262</td>\n",
       "    </tr>\n",
       "    <tr>\n",
       "      <th>997</th>\n",
       "      <td>997</td>\n",
       "      <td>-0.028757</td>\n",
       "      <td>-0.191722</td>\n",
       "      <td>1.191790</td>\n",
       "      <td>3.160897</td>\n",
       "    </tr>\n",
       "    <tr>\n",
       "      <th>998</th>\n",
       "      <td>998</td>\n",
       "      <td>0.415266</td>\n",
       "      <td>0.373086</td>\n",
       "      <td>1.172636</td>\n",
       "      <td>4.033302</td>\n",
       "    </tr>\n",
       "    <tr>\n",
       "      <th>999</th>\n",
       "      <td>999</td>\n",
       "      <td>3.163783</td>\n",
       "      <td>1.296699</td>\n",
       "      <td>1.402481</td>\n",
       "      <td>9.941968</td>\n",
       "    </tr>\n",
       "  </tbody>\n",
       "</table>\n",
       "<p>1000 rows × 5 columns</p>\n",
       "</div>"
      ],
      "text/plain": [
       "     Unnamed: 0        X1        X2        X3          Y\n",
       "0             0 -0.440646 -0.390227  0.156718  -0.877671\n",
       "1             1 -3.810099 -1.304665 -1.105117 -10.130388\n",
       "2             2 -1.425451 -0.340049  1.115908   0.284068\n",
       "3             3 -1.325750  0.161906 -0.254670  -1.994344\n",
       "4             4  3.120263  1.487343 -1.164839   2.030030\n",
       "..          ...       ...       ...       ...        ...\n",
       "995         995  1.281625 -0.062024 -0.109231   1.206058\n",
       "996         996 -3.047558 -1.121675  0.678439  -3.229262\n",
       "997         997 -0.028757 -0.191722  1.191790   3.160897\n",
       "998         998  0.415266  0.373086  1.172636   4.033302\n",
       "999         999  3.163783  1.296699  1.402481   9.941968\n",
       "\n",
       "[1000 rows x 5 columns]"
      ]
     },
     "execution_count": 3,
     "metadata": {},
     "output_type": "execute_result"
    }
   ],
   "source": [
    "df"
   ]
  },
  {
   "cell_type": "code",
   "execution_count": null,
   "id": "e0ff6a5b",
   "metadata": {},
   "outputs": [],
   "source": [
    "X_values = df.drop(columns=['Y'])\n",
    "y_values = df['Y']\n",
    "\n",
    "model = LinearRegression()\n",
    "model.fit(X_values, y_values)\n",
    "\n",
    "predictions = model.predict(X_values)\n",
    "\n"
   ]
  },
  {
   "cell_type": "code",
   "execution_count": 14,
   "id": "d17d6424",
   "metadata": {},
   "outputs": [
    {
     "name": "stdout",
     "output_type": "stream",
     "text": [
      "Variable           Coefficient    T-Statistic\n",
      "---------------------------------------------\n",
      "intercept               0.0476         1.4959\n",
      "Unnamed: 0             -0.0001        -1.6310\n",
      "X1                      1.0092        60.9782\n",
      "X2                      1.9599        53.0416\n",
      "X3                      2.9762       196.7776\n"
     ]
    }
   ],
   "source": [
    "X_with_intercept = np.column_stack((np.ones(X_values.shape[0]), X_values))\n",
    "\n",
    "# === Step 4: Fit model manually ===\n",
    "XtX = X_with_intercept.T @ X_with_intercept\n",
    "XtX_inv = np.linalg.inv(XtX)\n",
    "beta_hat = XtX_inv @ X_with_intercept.T @ y_values\n",
    "\n",
    "# === Step 5: Compute residuals, error variance (sigma^2) ===\n",
    "y_hat = X_with_intercept @ beta_hat\n",
    "residuals = y_values - y_hat\n",
    "n, p = X_with_intercept.shape\n",
    "sigma_squared = (residuals.T @ residuals) / (n - p)\n",
    "\n",
    "# === Step 6: Compute standard errors and t-statistics ===\n",
    "var_beta_hat = sigma_squared * XtX_inv\n",
    "standard_errors = np.sqrt(np.diag(var_beta_hat))\n",
    "t_stats = beta_hat / standard_errors\n",
    "\n",
    "# === Step 7: Match to column names ===\n",
    "feature_names = df.columns[:-1].tolist()\n",
    "feature_names_with_intercept = ['intercept'] + feature_names\n",
    "\n",
    "# === Step 8: Display results ===\n",
    "print(f\"{'Variable':<15}{'Coefficient':>15}{'T-Statistic':>15}\")\n",
    "print(\"-\" * 45)\n",
    "for name, coef, t in zip(feature_names_with_intercept, beta_hat, t_stats):\n",
    "    print(f\"{name:<15}{coef:>15.4f}{t:>15.4f}\")"
   ]
  },
  {
   "cell_type": "code",
   "execution_count": 22,
   "id": "72cb5ebc",
   "metadata": {},
   "outputs": [
    {
     "name": "stdout",
     "output_type": "stream",
     "text": [
      "Feature with the greatest difference: X2\n",
      "Difference: 2.1237\n"
     ]
    }
   ],
   "source": [
    "\n",
    "\n",
    "# Prepare predictors (X) and target (y)\n",
    "X = df.iloc[:, :-1].values  # All columns except the last are predictors\n",
    "y = df.iloc[:, -1].values   # Last column is the target variable\n",
    "\n",
    "# Fit multiple regression model (all X's)\n",
    "model_all = LinearRegression().fit(X, y)\n",
    "coeff_all = model_all.coef_\n",
    "\n",
    "# Initialize list to store the differences in coefficients\n",
    "differences = []\n",
    "\n",
    "# For each feature, fit univariate model and calculate difference\n",
    "for i in range(X.shape[1]):\n",
    "    X_i = X[:, i].reshape(-1, 1)  # Reshape X_i as a 2D array\n",
    "    coeff_single = LinearRegression().fit(X_i, y).coef_[0]\n",
    "    differences.append(np.abs(coeff_all[i] - coeff_single))\n",
    "\n",
    "# Find the feature with the greatest difference\n",
    "max_diff_index = np.argmax(differences)\n",
    "most_affected_feature = df.columns[max_diff_index]\n",
    "\n",
    "# Output the result\n",
    "print(f\"Feature with the greatest difference: {most_affected_feature}\")\n",
    "print(f\"Difference: {differences[max_diff_index]:.4f}\")"
   ]
  },
  {
   "cell_type": "code",
   "execution_count": 24,
   "id": "2ef6925f",
   "metadata": {},
   "outputs": [],
   "source": [
    "df_four_five = pd.read_csv('/Users/emmastiller/2025-summer-mod-6/homework_1.2.csv')\n",
    "from sklearn.neighbors import NearestNeighbors"
   ]
  },
  {
   "cell_type": "code",
   "execution_count": 34,
   "id": "6fb0d1d4",
   "metadata": {},
   "outputs": [
    {
     "name": "stdout",
     "output_type": "stream",
     "text": [
      "           Z  closest_match_index  distance_to_closest_match\n",
      "0   0.548814                    3                   0.003930\n",
      "1   0.715189                   93                   0.001138\n",
      "2   0.602763                   73                   0.002082\n",
      "3   0.544883                    0                   0.003930\n",
      "4   0.423655                   29                   0.008993\n",
      "..       ...                  ...                        ...\n",
      "95  0.183191                   64                   0.013391\n",
      "96  0.586513                   88                   0.010566\n",
      "97  0.020108                   16                   0.000111\n",
      "98  0.828940                   17                   0.003680\n",
      "99  0.004695                   34                   0.014094\n",
      "\n",
      "[100 rows x 3 columns]\n",
      "0.022936375279736132\n"
     ]
    }
   ],
   "source": [
    "z_values = df_four_five[['Z']].values\n",
    "neighbors = NearestNeighbors(n_neighbors=2, metric='euclidean')\n",
    "neighbors.fit(z_values)\n",
    "\n",
    "distances, indices = neighbors.kneighbors(z_values)\n",
    "df_four_five['farthest_match_index'] = indices[:,1]\n",
    "df_four_five['distance_to_farthest_match'] = distances[:,1]\n",
    "max_distance = (df_four_five['distance_to_farthest_match']).max()\n",
    "print(df_four_five[['Z', 'closest_match_index', 'distance_to_closest_match']])\n",
    "print(max_distance)"
   ]
  },
  {
   "cell_type": "code",
   "execution_count": 35,
   "id": "fe175023",
   "metadata": {},
   "outputs": [
    {
     "name": "stdout",
     "output_type": "stream",
     "text": [
      "The distance of the farthest match is: 0.2102170871093757\n"
     ]
    },
    {
     "name": "stderr",
     "output_type": "stream",
     "text": [
      "/var/folders/cm/9bmjknls3816ptb8qwtfw9940000gn/T/ipykernel_1866/4085741063.py:16: SettingWithCopyWarning: \n",
      "A value is trying to be set on a copy of a slice from a DataFrame.\n",
      "Try using .loc[row_indexer,col_indexer] = value instead\n",
      "\n",
      "See the caveats in the documentation: https://pandas.pydata.org/pandas-docs/stable/user_guide/indexing.html#returning-a-view-versus-a-copy\n",
      "  df_x1['distance_to_closest_match'] = distances.flatten()  # Flatten to get a 1D array\n"
     ]
    }
   ],
   "source": [
    "df_x0 = df_four_five[df_four_five['X'] == 0]  # Data where X = 0\n",
    "df_x1 = df_four_five[df_four_five['X'] == 1]  # Data where X = 1\n",
    "\n",
    "# Step 2: Extract Z values for both subsets (X = 0 and X = 1)\n",
    "Z_x0 = df_x0[['Z']].values  # Z values for X = 0\n",
    "Z_x1 = df_x1[['Z']].values  # Z values for X = 1\n",
    "\n",
    "# Step 3: Initialize NearestNeighbors and fit on Z values for X = 0\n",
    "neighbors = NearestNeighbors(n_neighbors=1, metric='euclidean')  # We need the closest neighbor\n",
    "neighbors.fit(Z_x0)  # Fit the model on Z values of X = 0\n",
    "\n",
    "# Step 4: Find the closest match for each X = 1 item in the X = 0 set\n",
    "distances, indices = neighbors.kneighbors(Z_x1)  # For each Z in X = 1, find the closest Z in X = 0\n",
    "\n",
    "# Step 5: Add the distance to the farthest match\n",
    "df_x1['distance_to_closest_match'] = distances.flatten()  # Flatten to get a 1D array\n",
    "\n",
    "# Step 6: Calculate the maximum distance among all the closest matches\n",
    "max_distance = df_x1['distance_to_closest_match'].max()\n",
    "\n",
    "# Output the maximum distance to the farthest match\n",
    "print(f\"The distance of the farthest match is: {max_distance}\")"
   ]
  },
  {
   "cell_type": "code",
   "execution_count": 38,
   "id": "46bd90ba",
   "metadata": {},
   "outputs": [
    {
     "name": "stdout",
     "output_type": "stream",
     "text": [
      "0.21706886288465266\n"
     ]
    }
   ],
   "source": [
    "distances, indices = neighbors.radius_neighbors(Z_x1)\n",
    "best_matches_x0 = []  # Flatten to a 1D array to easily compute averages\n",
    "\n",
    "for i in range(len(Z_x1)):\n",
    "    if len(indices[i]) > 0:\n",
    "        # Take the closest match (first in the list of indices)\n",
    "        best_matches_x0.append(Z_x0[indices[i][0], 0])\n",
    "    else:\n",
    "        # If no match is found, append NaN or handle as needed\n",
    "        best_matches_x0.append(float('nan'))\n",
    "\n",
    "# Convert the list of best matches into a Pandas series for easy calculations\n",
    "best_matches_x0 = pd.Series(best_matches_x0)\n",
    "\n",
    "# Step 6: Compute the average Z for X = 0\n",
    "average_x0 = df_x0['Z'].mean()\n",
    "\n",
    "# Step 7: Compute the average Z for X = 1 with the best matches from X = 0\n",
    "average_best_match_x1 = best_matches_x0.mean()\n",
    "\n",
    "# Step 8: Calculate the effect (difference between averages)\n",
    "effect = average_best_match_x1 - average_x0\n",
    "\n",
    "print(effect)"
   ]
  },
  {
   "cell_type": "code",
   "execution_count": 40,
   "id": "5cecf456",
   "metadata": {},
   "outputs": [
    {
     "name": "stdout",
     "output_type": "stream",
     "text": [
      "0.10828131989901935\n"
     ]
    }
   ],
   "source": [
    "df_x0 = df_four_five[df_four_five['X'] == 0]  # Data where X = 0\n",
    "df_x1 = df_four_five[df_four_five['X'] == 1]  # Data where X = 1\n",
    "\n",
    "# Step 2: Extract Z values for both subsets (X = 0 and X = 1)\n",
    "Z_x0 = df_x0[['Z']].values  # Z values for X = 0\n",
    "Z_x1 = df_x1[['Z']].values  # Z values for X = 1\n",
    "\n",
    "# Step 3: Initialize NearestNeighbors with radius_neighbors (find matches within a distance of 0.2)\n",
    "neighbors = NearestNeighbors(radius=0.2, metric='euclidean')  # Radius of 0.2\n",
    "neighbors.fit(Z_x0)  # Fit the model on Z values of X = 0\n",
    "\n",
    "# Step 4: Find all matches within 0.2 distance for each X = 1 item in the X = 0 set\n",
    "distances, indices = neighbors.radius_neighbors(Z_x1)  # For each Z in X = 1, find all Z in X = 0 within the radius\n",
    "\n",
    "# Step 5: For each X = 1, get all the corresponding matches from X = 0\n",
    "matches_x0 = []\n",
    "\n",
    "for i in range(len(Z_x1)):\n",
    "    if len(indices[i]) > 0:\n",
    "        # Append all matched Z values from X = 0 for each X = 1\n",
    "        matches_x0.extend(Z_x0[indices[i], 0])  # Extracting the Z values for X = 0 samples\n",
    "\n",
    "# Convert the list of all matched Z values into a Pandas series for easy calculations\n",
    "matches_x0_series = pd.Series(matches_x0)\n",
    "\n",
    "# Step 6: Compute the average Z for X = 0\n",
    "average_x0 = df_x0['Z'].mean()\n",
    "\n",
    "# Step 7: Compute the average Z for X = 1 with all matches from X = 0 within distance 0.2\n",
    "average_matches_x1 = matches_x0_series.mean()\n",
    "\n",
    "# Step 8: Calculate the effect (difference between averages)\n",
    "effect = average_matches_x1 - average_x0\n",
    "print(effect)"
   ]
  },
  {
   "cell_type": "code",
   "execution_count": 41,
   "id": "ba512ebb",
   "metadata": {},
   "outputs": [
    {
     "name": "stdout",
     "output_type": "stream",
     "text": [
      "{691}\n"
     ]
    }
   ],
   "source": [
    "duplicate_count = 0\n",
    "\n",
    "for i in range(len(Z_x1)):\n",
    "    # indices[i] gives us the list of matching indices for the i-th X=1 sample\n",
    "    if len(indices[i]) > 1:\n",
    "        # We exclude the first match (the first one is not a duplicate)\n",
    "        duplicate_count += len(indices[i]) - 1  # Count all but the first match\n",
    "print({duplicate_count})"
   ]
  },
  {
   "cell_type": "markdown",
   "id": "9f3a621b",
   "metadata": {},
   "source": [
    "## Week 2 Quiz "
   ]
  },
  {
   "cell_type": "code",
   "execution_count": 1,
   "id": "8a58cd24",
   "metadata": {},
   "outputs": [
    {
     "name": "stdout",
     "output_type": "stream",
     "text": [
      "Defaulting to user installation because normal site-packages is not writeable\n",
      "Requirement already satisfied: statsmodels in /Users/emmastiller/Library/Python/3.9/lib/python/site-packages (0.14.4)\n",
      "Requirement already satisfied: patsy>=0.5.6 in /Users/emmastiller/Library/Python/3.9/lib/python/site-packages (from statsmodels) (1.0.1)\n",
      "Requirement already satisfied: packaging>=21.3 in /Users/emmastiller/Library/Python/3.9/lib/python/site-packages (from statsmodels) (25.0)\n",
      "Requirement already satisfied: numpy<3,>=1.22.3 in /Users/emmastiller/Library/Python/3.9/lib/python/site-packages (from statsmodels) (2.0.2)\n",
      "Requirement already satisfied: pandas!=2.1.0,>=1.4 in /Users/emmastiller/Library/Python/3.9/lib/python/site-packages (from statsmodels) (2.2.3)\n",
      "Requirement already satisfied: scipy!=1.9.2,>=1.8 in /Users/emmastiller/Library/Python/3.9/lib/python/site-packages (from statsmodels) (1.13.1)\n",
      "Requirement already satisfied: pytz>=2020.1 in /Users/emmastiller/Library/Python/3.9/lib/python/site-packages (from pandas!=2.1.0,>=1.4->statsmodels) (2025.2)\n",
      "Requirement already satisfied: tzdata>=2022.7 in /Users/emmastiller/Library/Python/3.9/lib/python/site-packages (from pandas!=2.1.0,>=1.4->statsmodels) (2025.2)\n",
      "Requirement already satisfied: python-dateutil>=2.8.2 in /Users/emmastiller/Library/Python/3.9/lib/python/site-packages (from pandas!=2.1.0,>=1.4->statsmodels) (2.9.0.post0)\n",
      "Requirement already satisfied: six>=1.5 in /Library/Developer/CommandLineTools/Library/Frameworks/Python3.framework/Versions/3.9/lib/python3.9/site-packages (from python-dateutil>=2.8.2->pandas!=2.1.0,>=1.4->statsmodels) (1.15.0)\n",
      "\u001b[33mWARNING: You are using pip version 21.2.4; however, version 25.1.1 is available.\n",
      "You should consider upgrading via the '/Library/Developer/CommandLineTools/usr/bin/python3 -m pip install --upgrade pip' command.\u001b[0m\n",
      "Note: you may need to restart the kernel to use updated packages.\n"
     ]
    }
   ],
   "source": [
    "pip install statsmodels"
   ]
  },
  {
   "cell_type": "code",
   "execution_count": 1,
   "id": "5b1992f0",
   "metadata": {},
   "outputs": [],
   "source": [
    "import statsmodels.api as sm\n",
    "import pandas as pd\n",
    "import numpy as np \n",
    "from sklearn.linear_model import LinearRegression\n",
    "import matplotlib.pyplot as plt\n",
    "import statsmodels.formula.api as smf"
   ]
  },
  {
   "cell_type": "code",
   "execution_count": 2,
   "id": "818bf348",
   "metadata": {},
   "outputs": [],
   "source": [
    "df_2 = pd.read_csv('homework_2.1.csv')"
   ]
  },
  {
   "cell_type": "code",
   "execution_count": 3,
   "id": "d45f7b8c",
   "metadata": {},
   "outputs": [
    {
     "name": "stdout",
     "output_type": "stream",
     "text": [
      "Index(['group', 'time', 'G1', 'G2', 'G3'], dtype='object')\n"
     ]
    }
   ],
   "source": [
    "print(df_2.columns)"
   ]
  },
  {
   "cell_type": "markdown",
   "id": "7d42124b",
   "metadata": {},
   "source": [
    "## Problem 2.1"
   ]
  },
  {
   "cell_type": "code",
   "execution_count": 4,
   "id": "f92fc6a0",
   "metadata": {},
   "outputs": [],
   "source": [
    "group_col = ['group']\n",
    "outcome = ['G1']"
   ]
  },
  {
   "cell_type": "code",
   "execution_count": 5,
   "id": "57c89fd5",
   "metadata": {},
   "outputs": [],
   "source": [
    "df_2['post_treatment'] = df_2['group']* df_2['time']"
   ]
  },
  {
   "cell_type": "code",
   "execution_count": 6,
   "id": "3f68063f",
   "metadata": {},
   "outputs": [
    {
     "data": {
      "text/plain": [
       "const    0.104236\n",
       "time     0.008498\n",
       "dtype: float64"
      ]
     },
     "execution_count": 6,
     "metadata": {},
     "output_type": "execute_result"
    }
   ],
   "source": [
    "results = sm.OLS(df_2.G1, sm.add_constant(df_2[[\"time\"]])).fit()\n",
    "results.params"
   ]
  },
  {
   "cell_type": "code",
   "execution_count": 7,
   "id": "b9b51b22",
   "metadata": {},
   "outputs": [],
   "source": [
    "# model = smf.ols('G1 ~ C(group) + C(time) + post_treatment', data=df_2).fit()\n",
    "# print(model.summary())"
   ]
  },
  {
   "cell_type": "code",
   "execution_count": null,
   "id": "c365a047",
   "metadata": {},
   "outputs": [],
   "source": [
    "# Answer 2.1 = C(group)[T.1] = -0.3360"
   ]
  },
  {
   "cell_type": "markdown",
   "id": "b6ac4b3d",
   "metadata": {},
   "source": [
    "## Problem 2.2"
   ]
  },
  {
   "cell_type": "code",
   "execution_count": null,
   "id": "3592b7d7",
   "metadata": {},
   "outputs": [],
   "source": [
    "# make new dataframe with time, G - concat"
   ]
  },
  {
   "cell_type": "code",
   "execution_count": 8,
   "id": "e12e5d9c",
   "metadata": {},
   "outputs": [
    {
     "ename": "AttributeError",
     "evalue": "'DataFrame' object has no attribute 'G'",
     "output_type": "error",
     "traceback": [
      "\u001b[0;31m---------------------------------------------------------------------------\u001b[0m",
      "\u001b[0;31mAttributeError\u001b[0m                            Traceback (most recent call last)",
      "\u001b[0;32m/var/folders/cm/9bmjknls3816ptb8qwtfw9940000gn/T/ipykernel_1904/844209976.py\u001b[0m in \u001b[0;36m?\u001b[0;34m()\u001b[0m\n\u001b[0;32m----> 4\u001b[0;31m \u001b[0;31m## common linear coefficient\u001b[0m\u001b[0;34m\u001b[0m\u001b[0;34m\u001b[0m\u001b[0;34m\u001b[0m\u001b[0m\n\u001b[0m\u001b[1;32m      5\u001b[0m \u001b[0;31m# predict any G from time * x\u001b[0m\u001b[0;34m\u001b[0m\u001b[0;34m\u001b[0m\u001b[0;34m\u001b[0m\u001b[0m\n\u001b[1;32m      6\u001b[0m \u001b[0;34m\u001b[0m\u001b[0m\n\u001b[1;32m      7\u001b[0m \u001b[0mresults\u001b[0m \u001b[0;34m=\u001b[0m \u001b[0msm\u001b[0m\u001b[0;34m.\u001b[0m\u001b[0mOLS\u001b[0m\u001b[0;34m(\u001b[0m\u001b[0mdf_2\u001b[0m\u001b[0;34m.\u001b[0m\u001b[0mG\u001b[0m\u001b[0;34m,\u001b[0m \u001b[0msm\u001b[0m\u001b[0;34m.\u001b[0m\u001b[0madd_constant\u001b[0m\u001b[0;34m(\u001b[0m\u001b[0mdf_2\u001b[0m\u001b[0;34m[\u001b[0m\u001b[0;34m[\u001b[0m\u001b[0;34m\"time\"\u001b[0m\u001b[0;34m]\u001b[0m\u001b[0;34m]\u001b[0m\u001b[0;34m)\u001b[0m\u001b[0;34m)\u001b[0m\u001b[0;34m.\u001b[0m\u001b[0mfit\u001b[0m\u001b[0;34m(\u001b[0m\u001b[0;34m)\u001b[0m\u001b[0;34m\u001b[0m\u001b[0;34m\u001b[0m\u001b[0m\n",
      "\u001b[0;32m~/Library/Python/3.9/lib/python/site-packages/pandas/core/generic.py\u001b[0m in \u001b[0;36m?\u001b[0;34m(self, name)\u001b[0m\n\u001b[1;32m   6295\u001b[0m             \u001b[0;32mand\u001b[0m \u001b[0mname\u001b[0m \u001b[0;32mnot\u001b[0m \u001b[0;32min\u001b[0m \u001b[0mself\u001b[0m\u001b[0;34m.\u001b[0m\u001b[0m_accessors\u001b[0m\u001b[0;34m\u001b[0m\u001b[0;34m\u001b[0m\u001b[0m\n\u001b[1;32m   6296\u001b[0m             \u001b[0;32mand\u001b[0m \u001b[0mself\u001b[0m\u001b[0;34m.\u001b[0m\u001b[0m_info_axis\u001b[0m\u001b[0;34m.\u001b[0m\u001b[0m_can_hold_identifiers_and_holds_name\u001b[0m\u001b[0;34m(\u001b[0m\u001b[0mname\u001b[0m\u001b[0;34m)\u001b[0m\u001b[0;34m\u001b[0m\u001b[0;34m\u001b[0m\u001b[0m\n\u001b[1;32m   6297\u001b[0m         ):\n\u001b[1;32m   6298\u001b[0m             \u001b[0;32mreturn\u001b[0m \u001b[0mself\u001b[0m\u001b[0;34m[\u001b[0m\u001b[0mname\u001b[0m\u001b[0;34m]\u001b[0m\u001b[0;34m\u001b[0m\u001b[0;34m\u001b[0m\u001b[0m\n\u001b[0;32m-> 6299\u001b[0;31m         \u001b[0;32mreturn\u001b[0m \u001b[0mobject\u001b[0m\u001b[0;34m.\u001b[0m\u001b[0m__getattribute__\u001b[0m\u001b[0;34m(\u001b[0m\u001b[0mself\u001b[0m\u001b[0;34m,\u001b[0m \u001b[0mname\u001b[0m\u001b[0;34m)\u001b[0m\u001b[0;34m\u001b[0m\u001b[0;34m\u001b[0m\u001b[0m\n\u001b[0m",
      "\u001b[0;31mAttributeError\u001b[0m: 'DataFrame' object has no attribute 'G'"
     ]
    }
   ],
   "source": [
    "## common linear coefficient \n",
    "# predict any G from time * x \n",
    "\n",
    "results = sm.OLS(df_2.G, sm.add_constant(df_2[[\"time\"]])).fit()\n",
    "results.params\n"
   ]
  },
  {
   "cell_type": "code",
   "execution_count": 31,
   "id": "1fa89c43",
   "metadata": {},
   "outputs": [],
   "source": [
    "# Answer 2.2 = Intercept = 0.8820"
   ]
  },
  {
   "cell_type": "markdown",
   "id": "78df455b",
   "metadata": {},
   "source": [
    "## Problem 2.3 "
   ]
  },
  {
   "cell_type": "code",
   "execution_count": 9,
   "id": "715f196b",
   "metadata": {},
   "outputs": [],
   "source": [
    "## do (Y when x=1) - (Y when X=0)\n",
    "# to get treated vs untreated data\n"
   ]
  },
  {
   "cell_type": "code",
   "execution_count": 11,
   "id": "7be00a02",
   "metadata": {},
   "outputs": [],
   "source": [
    "df_22 = pd.read_csv('homework_2.2.csv')"
   ]
  },
  {
   "cell_type": "code",
   "execution_count": 41,
   "id": "491a37c3",
   "metadata": {},
   "outputs": [
    {
     "data": {
      "text/plain": [
       "const    4.943624\n",
       "X        2.818696\n",
       "Z        2.124724\n",
       "dtype: float64"
      ]
     },
     "execution_count": 41,
     "metadata": {},
     "output_type": "execute_result"
    }
   ],
   "source": [
    "results = sm.OLS(df_22.Y, sm.add_constant(df_22[[\"X\", \"Z\"]])).fit()\n",
    "results.params"
   ]
  },
  {
   "cell_type": "markdown",
   "id": "8afe1833",
   "metadata": {},
   "source": [
    "## Problem 2.4"
   ]
  },
  {
   "cell_type": "code",
   "execution_count": 12,
   "id": "ac5b3287",
   "metadata": {},
   "outputs": [],
   "source": [
    "## do bootstrap sampling \n",
    "n_boostrap = 10000\n",
    "boot_coefs = []\n",
    "\n",
    "for i in range(n_boostrap): \n",
    "    boot_sample = df_22.sample(frac=1, replace=True)\n",
    "    X0 = boot_sample[boot_sample[\"X\"]==0].copy()\n",
    "    X1 = boot_sample[boot_sample[\"X\"]==1].copy()\n",
    "    means = (X1['Y'].mean() - X0['Y'].mean())\n",
    "    boot_coefs.append(means)\n",
    "boot_coefs = np.array(boot_coefs)\n",
    "\n",
    "variance = np.var(boot_coefs)"
   ]
  },
  {
   "cell_type": "code",
   "execution_count": 13,
   "id": "8fd1752b",
   "metadata": {},
   "outputs": [
    {
     "data": {
      "text/plain": [
       "np.float64(0.03196932133715095)"
      ]
     },
     "execution_count": 13,
     "metadata": {},
     "output_type": "execute_result"
    }
   ],
   "source": [
    "variance"
   ]
  },
  {
   "cell_type": "markdown",
   "id": "03b593fb",
   "metadata": {},
   "source": [
    "## Problem 2.5"
   ]
  },
  {
   "cell_type": "code",
   "execution_count": 15,
   "id": "90210242",
   "metadata": {},
   "outputs": [],
   "source": [
    "from scipy.stats import skew"
   ]
  },
  {
   "cell_type": "code",
   "execution_count": 16,
   "id": "22d99b9e",
   "metadata": {},
   "outputs": [],
   "source": [
    "coef_skewness = skew(boot_coefs)"
   ]
  },
  {
   "cell_type": "code",
   "execution_count": 17,
   "id": "42638f92",
   "metadata": {},
   "outputs": [
    {
     "data": {
      "text/plain": [
       "np.float64(0.058858855211658165)"
      ]
     },
     "execution_count": 17,
     "metadata": {},
     "output_type": "execute_result"
    }
   ],
   "source": [
    "coef_skewness"
   ]
  }
 ],
 "metadata": {
  "kernelspec": {
   "display_name": "Python 3",
   "language": "python",
   "name": "python3"
  },
  "language_info": {
   "codemirror_mode": {
    "name": "ipython",
    "version": 3
   },
   "file_extension": ".py",
   "mimetype": "text/x-python",
   "name": "python",
   "nbconvert_exporter": "python",
   "pygments_lexer": "ipython3",
   "version": "3.9.6"
  }
 },
 "nbformat": 4,
 "nbformat_minor": 5
}
